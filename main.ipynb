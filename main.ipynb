{
  "nbformat": 4,
  "nbformat_minor": 0,
  "metadata": {
    "kernelspec": {
      "display_name": "Python 3",
      "language": "python",
      "name": "python3"
    },
    "language_info": {
      "codemirror_mode": {
        "name": "ipython",
        "version": 3
      },
      "file_extension": ".py",
      "mimetype": "text/x-python",
      "name": "python",
      "nbconvert_exporter": "python",
      "pygments_lexer": "ipython3",
      "version": "3.8.5"
    },
    "colab": {
      "name": "main.ipynb",
      "provenance": [],
      "collapsed_sections": [
        "yG6CE86mImfB",
        "G3veYuAbImfC",
        "jl9dfuYaImfD",
        "HD8WImiOImfE",
        "1b1UmRGxImfM",
        "mhvda14fImfN"
      ]
    }
  },
  "cells": [
    {
      "cell_type": "markdown",
      "metadata": {
        "id": "ZFkTeoXCImeU"
      },
      "source": [
        "# LIBRARIES"
      ]
    },
    {
      "cell_type": "code",
      "metadata": {
        "id": "tb7c27EAImeq"
      },
      "source": [
        "import pandas as pd\n",
        "from collections import defaultdict\n",
        "import matplotlib.pyplot as plt\n",
        "import random\n",
        "from random import choice\n",
        "from collections import deque\n",
        "import networkx as nx\n",
        "import pandas as pd\n",
        "import functions"
      ],
      "execution_count": null,
      "outputs": []
    },
    {
      "cell_type": "markdown",
      "metadata": {
        "id": "eG0kQbTDImez"
      },
      "source": [
        "### Working on wikigraph.csv"
      ]
    },
    {
      "cell_type": "markdown",
      "metadata": {
        "id": "sOkw4pkCImez"
      },
      "source": [
        "We imported the reduced csv file containing for each single edge in the graph the starting node (Named Source) and the final node (Named Target). To obtain a correct display we used a separator with respect to the tab and subsequently we renamed the two columns 0,1 as Source and Target."
      ]
    },
    {
      "cell_type": "code",
      "metadata": {
        "scrolled": true,
        "id": "xJl4FwDzImez"
      },
      "source": [
        "graph = functions.read_graph_csv(\"wikigraph_reduced.csv\")"
      ],
      "execution_count": null,
      "outputs": []
    },
    {
      "cell_type": "code",
      "metadata": {
        "id": "hMX-2JAOIme0",
        "outputId": "38271ba8-c849-4cad-cf26-dec0f68dd921"
      },
      "source": [
        "graph.head()"
      ],
      "execution_count": null,
      "outputs": [
        {
          "output_type": "execute_result",
          "data": {
            "text/html": [
              "<div>\n",
              "<style scoped>\n",
              "    .dataframe tbody tr th:only-of-type {\n",
              "        vertical-align: middle;\n",
              "    }\n",
              "\n",
              "    .dataframe tbody tr th {\n",
              "        vertical-align: top;\n",
              "    }\n",
              "\n",
              "    .dataframe thead th {\n",
              "        text-align: right;\n",
              "    }\n",
              "</style>\n",
              "<table border=\"1\" class=\"dataframe\">\n",
              "  <thead>\n",
              "    <tr style=\"text-align: right;\">\n",
              "      <th></th>\n",
              "      <th>Source</th>\n",
              "      <th>Target</th>\n",
              "    </tr>\n",
              "  </thead>\n",
              "  <tbody>\n",
              "    <tr>\n",
              "      <th>0</th>\n",
              "      <td>95</td>\n",
              "      <td>1185516</td>\n",
              "    </tr>\n",
              "    <tr>\n",
              "      <th>1</th>\n",
              "      <td>108</td>\n",
              "      <td>1059989</td>\n",
              "    </tr>\n",
              "    <tr>\n",
              "      <th>2</th>\n",
              "      <td>108</td>\n",
              "      <td>1062426</td>\n",
              "    </tr>\n",
              "    <tr>\n",
              "      <th>3</th>\n",
              "      <td>108</td>\n",
              "      <td>1161925</td>\n",
              "    </tr>\n",
              "    <tr>\n",
              "      <th>4</th>\n",
              "      <td>134</td>\n",
              "      <td>541222</td>\n",
              "    </tr>\n",
              "  </tbody>\n",
              "</table>\n",
              "</div>"
            ],
            "text/plain": [
              "   Source   Target\n",
              "0      95  1185516\n",
              "1     108  1059989\n",
              "2     108  1062426\n",
              "3     108  1161925\n",
              "4     134   541222"
            ]
          },
          "metadata": {
            "tags": []
          },
          "execution_count": 3
        }
      ]
    },
    {
      "cell_type": "markdown",
      "metadata": {
        "id": "9T0CgW_vIme1"
      },
      "source": [
        "### Working on page names"
      ]
    },
    {
      "cell_type": "markdown",
      "metadata": {
        "id": "84YHR_XhIme1"
      },
      "source": [
        "We have uploaded the Text file containing the names of each single page. Once loaded, to obtain a correct view, we wanted to split the single column containing both the name of the page and the node associated with the page into two separate columns."
      ]
    },
    {
      "cell_type": "code",
      "metadata": {
        "id": "QMi88vkiIme2",
        "outputId": "01596af3-cf97-4c94-c36c-d7fbf5e14df2"
      },
      "source": [
        "data_name = functions.read_page_names(\"Names.txt\")\n",
        "data_name.head()"
      ],
      "execution_count": null,
      "outputs": [
        {
          "output_type": "execute_result",
          "data": {
            "text/html": [
              "<div>\n",
              "<style scoped>\n",
              "    .dataframe tbody tr th:only-of-type {\n",
              "        vertical-align: middle;\n",
              "    }\n",
              "\n",
              "    .dataframe tbody tr th {\n",
              "        vertical-align: top;\n",
              "    }\n",
              "\n",
              "    .dataframe thead th {\n",
              "        text-align: right;\n",
              "    }\n",
              "</style>\n",
              "<table border=\"1\" class=\"dataframe\">\n",
              "  <thead>\n",
              "    <tr style=\"text-align: right;\">\n",
              "      <th></th>\n",
              "      <th>Pages</th>\n",
              "    </tr>\n",
              "    <tr>\n",
              "      <th>Node</th>\n",
              "      <th></th>\n",
              "    </tr>\n",
              "  </thead>\n",
              "  <tbody>\n",
              "    <tr>\n",
              "      <th>0</th>\n",
              "      <td>Chiasmal syndrome</td>\n",
              "    </tr>\n",
              "    <tr>\n",
              "      <th>1</th>\n",
              "      <td>Kleroterion</td>\n",
              "    </tr>\n",
              "    <tr>\n",
              "      <th>2</th>\n",
              "      <td>Pinakion</td>\n",
              "    </tr>\n",
              "    <tr>\n",
              "      <th>3</th>\n",
              "      <td>LyndonHochschildSerre spectral sequence</td>\n",
              "    </tr>\n",
              "    <tr>\n",
              "      <th>4</th>\n",
              "      <td>Zariski's main theorem</td>\n",
              "    </tr>\n",
              "  </tbody>\n",
              "</table>\n",
              "</div>"
            ],
            "text/plain": [
              "                                        Pages\n",
              "Node                                         \n",
              "0                           Chiasmal syndrome\n",
              "1                                 Kleroterion\n",
              "2                                    Pinakion\n",
              "3     LyndonHochschildSerre spectral sequence\n",
              "4                      Zariski's main theorem"
            ]
          },
          "metadata": {
            "tags": []
          },
          "execution_count": 37
        }
      ]
    },
    {
      "cell_type": "markdown",
      "metadata": {
        "id": "c5MuMg8EIme2"
      },
      "source": [
        "### Working on topcast categories"
      ]
    },
    {
      "cell_type": "markdown",
      "metadata": {
        "id": "9xmbOq__Ime3"
      },
      "source": [
        "Finally, we uploaded the text file containing the list of pages associated with this category for each single category. Also in this case for a correct visualization we have carried out various operations. Once you have read the text file with separator and division into columns. We then worked on the two columns, on the Category column we deleted the initial part of the string for each row while for the PageList column we split the pages and created a list. We have also only considered categories with a number of articles between 5000 and 30000 as required by the Homework."
      ]
    },
    {
      "cell_type": "code",
      "metadata": {
        "id": "zbtVRjE4Ime3"
      },
      "source": [
        "data_cat = functions.read_top_categories('Categories.txt')"
      ],
      "execution_count": null,
      "outputs": []
    },
    {
      "cell_type": "code",
      "metadata": {
        "id": "LD9-eEQdIme3",
        "outputId": "38e395d6-b477-4702-cb63-5bd3025aae7a"
      },
      "source": [
        "data_cat.head()"
      ],
      "execution_count": null,
      "outputs": [
        {
          "output_type": "execute_result",
          "data": {
            "text/html": [
              "<div>\n",
              "<style scoped>\n",
              "    .dataframe tbody tr th:only-of-type {\n",
              "        vertical-align: middle;\n",
              "    }\n",
              "\n",
              "    .dataframe tbody tr th {\n",
              "        vertical-align: top;\n",
              "    }\n",
              "\n",
              "    .dataframe thead th {\n",
              "        text-align: right;\n",
              "    }\n",
              "</style>\n",
              "<table border=\"1\" class=\"dataframe\">\n",
              "  <thead>\n",
              "    <tr style=\"text-align: right;\">\n",
              "      <th></th>\n",
              "      <th>Category</th>\n",
              "      <th>PageList</th>\n",
              "    </tr>\n",
              "  </thead>\n",
              "  <tbody>\n",
              "    <tr>\n",
              "      <th>0</th>\n",
              "      <td>English_footballers</td>\n",
              "      <td>[22860, 28411, 28961, 28979, 29264, 29573, 295...</td>\n",
              "    </tr>\n",
              "    <tr>\n",
              "      <th>1</th>\n",
              "      <td>The_Football_League_players</td>\n",
              "      <td>[14003, 23536, 27109, 27348, 27459, 27989, 280...</td>\n",
              "    </tr>\n",
              "    <tr>\n",
              "      <th>2</th>\n",
              "      <td>Association_football_forwards</td>\n",
              "      <td>[26876, 26877, 26879, 26887, 26892, 26904, 269...</td>\n",
              "    </tr>\n",
              "    <tr>\n",
              "      <th>3</th>\n",
              "      <td>Association_football_midfielders</td>\n",
              "      <td>[14003, 15291, 23536, 26880, 26882, 26885, 268...</td>\n",
              "    </tr>\n",
              "    <tr>\n",
              "      <th>4</th>\n",
              "      <td>Association_football_defenders</td>\n",
              "      <td>[15217, 22860, 26873, 26878, 26881, 26898, 269...</td>\n",
              "    </tr>\n",
              "  </tbody>\n",
              "</table>\n",
              "</div>"
            ],
            "text/plain": [
              "                           Category  \\\n",
              "0               English_footballers   \n",
              "1       The_Football_League_players   \n",
              "2     Association_football_forwards   \n",
              "3  Association_football_midfielders   \n",
              "4    Association_football_defenders   \n",
              "\n",
              "                                            PageList  \n",
              "0  [22860, 28411, 28961, 28979, 29264, 29573, 295...  \n",
              "1  [14003, 23536, 27109, 27348, 27459, 27989, 280...  \n",
              "2  [26876, 26877, 26879, 26887, 26892, 26904, 269...  \n",
              "3  [14003, 15291, 23536, 26880, 26882, 26885, 268...  \n",
              "4  [15217, 22860, 26873, 26878, 26881, 26898, 269...  "
            ]
          },
          "metadata": {
            "tags": []
          },
          "execution_count": 6
        }
      ]
    },
    {
      "cell_type": "markdown",
      "metadata": {
        "id": "S-HMVS13Ime4"
      },
      "source": [
        "We have decided to create a new data frame containing the category of belonging for each article. Subsequently we created a dictionary containing the individual articles as keys and the categories of belonging as values for each key. We did it all because one article might belong to a single category or multiple ones. In the case of multiple appearance, we have to break the ties uniformly at random. We have in fact modified the dictionary created by randomly choosing the category it belongs to for each article. Subsequently we obtained the reverse dictionary by choosing the various categories as keys and the list of pages associated with them as values for each key and finally we obtained a new dataframe"
      ]
    },
    {
      "cell_type": "code",
      "metadata": {
        "id": "qP_YvMHRIme4"
      },
      "source": [
        "df_article = pd.concat([pd.DataFrame(data = {'Articles': data_cat.loc[i].PageList, \n",
        "                                             'Category': data_cat.loc[i].Category}) for i in data_cat.index], \n",
        "                       ignore_index=True) #Create a new datagrame where for each article we report the specific category"
      ],
      "execution_count": null,
      "outputs": []
    },
    {
      "cell_type": "code",
      "metadata": {
        "scrolled": false,
        "id": "GD_3mR-kIme6",
        "outputId": "713f2005-7548-473d-e837-8f11afda53b4"
      },
      "source": [
        "df_article.head()"
      ],
      "execution_count": null,
      "outputs": [
        {
          "output_type": "execute_result",
          "data": {
            "text/html": [
              "<div>\n",
              "<style scoped>\n",
              "    .dataframe tbody tr th:only-of-type {\n",
              "        vertical-align: middle;\n",
              "    }\n",
              "\n",
              "    .dataframe tbody tr th {\n",
              "        vertical-align: top;\n",
              "    }\n",
              "\n",
              "    .dataframe thead th {\n",
              "        text-align: right;\n",
              "    }\n",
              "</style>\n",
              "<table border=\"1\" class=\"dataframe\">\n",
              "  <thead>\n",
              "    <tr style=\"text-align: right;\">\n",
              "      <th></th>\n",
              "      <th>Articles</th>\n",
              "      <th>Category</th>\n",
              "    </tr>\n",
              "  </thead>\n",
              "  <tbody>\n",
              "    <tr>\n",
              "      <th>0</th>\n",
              "      <td>22860</td>\n",
              "      <td>English_footballers</td>\n",
              "    </tr>\n",
              "    <tr>\n",
              "      <th>1</th>\n",
              "      <td>28411</td>\n",
              "      <td>English_footballers</td>\n",
              "    </tr>\n",
              "    <tr>\n",
              "      <th>2</th>\n",
              "      <td>28961</td>\n",
              "      <td>English_footballers</td>\n",
              "    </tr>\n",
              "    <tr>\n",
              "      <th>3</th>\n",
              "      <td>28979</td>\n",
              "      <td>English_footballers</td>\n",
              "    </tr>\n",
              "    <tr>\n",
              "      <th>4</th>\n",
              "      <td>29264</td>\n",
              "      <td>English_footballers</td>\n",
              "    </tr>\n",
              "  </tbody>\n",
              "</table>\n",
              "</div>"
            ],
            "text/plain": [
              "  Articles             Category\n",
              "0    22860  English_footballers\n",
              "1    28411  English_footballers\n",
              "2    28961  English_footballers\n",
              "3    28979  English_footballers\n",
              "4    29264  English_footballers"
            ]
          },
          "metadata": {
            "tags": []
          },
          "execution_count": 8
        }
      ]
    },
    {
      "cell_type": "code",
      "metadata": {
        "scrolled": true,
        "id": "Uh75ETiXIme6",
        "outputId": "2b074d38-9cb1-4820-e2d8-7df1cbf10f98"
      },
      "source": [
        "random_dict = functions.random_dictionary(df_article)"
      ],
      "execution_count": null,
      "outputs": [
        {
          "output_type": "stream",
          "text": [
            "100%|███████████████████████████████████████████████████████████████████████| 198958/198958 [00:07<00:00, 25070.58it/s]\n"
          ],
          "name": "stderr"
        }
      ]
    },
    {
      "cell_type": "code",
      "metadata": {
        "id": "RGUuT8KLIme7"
      },
      "source": [
        "new_data = functions.reversed_dictionary(random_dict)"
      ],
      "execution_count": null,
      "outputs": []
    },
    {
      "cell_type": "code",
      "metadata": {
        "id": "nJ4nmIzQIme8",
        "outputId": "d637b6ef-ed9b-4814-9bd6-bc6ec5933256"
      },
      "source": [
        "new_data.head()"
      ],
      "execution_count": null,
      "outputs": [
        {
          "output_type": "execute_result",
          "data": {
            "text/html": [
              "<div>\n",
              "<style scoped>\n",
              "    .dataframe tbody tr th:only-of-type {\n",
              "        vertical-align: middle;\n",
              "    }\n",
              "\n",
              "    .dataframe tbody tr th {\n",
              "        vertical-align: top;\n",
              "    }\n",
              "\n",
              "    .dataframe thead th {\n",
              "        text-align: right;\n",
              "    }\n",
              "</style>\n",
              "<table border=\"1\" class=\"dataframe\">\n",
              "  <thead>\n",
              "    <tr style=\"text-align: right;\">\n",
              "      <th></th>\n",
              "      <th>Category</th>\n",
              "      <th>PageList</th>\n",
              "    </tr>\n",
              "  </thead>\n",
              "  <tbody>\n",
              "    <tr>\n",
              "      <th>0</th>\n",
              "      <td>English_footballers</td>\n",
              "      <td>[22860, 28961, 28979, 29573, 30896, 31902, 340...</td>\n",
              "    </tr>\n",
              "    <tr>\n",
              "      <th>1</th>\n",
              "      <td>Association_football_defenders</td>\n",
              "      <td>[28411, 29264, 48583, 72617, 72628, 72747, 727...</td>\n",
              "    </tr>\n",
              "    <tr>\n",
              "      <th>2</th>\n",
              "      <td>Year_of_death_missing</td>\n",
              "      <td>[29582, 72528, 72587, 72769, 72826, 72961, 729...</td>\n",
              "    </tr>\n",
              "    <tr>\n",
              "      <th>3</th>\n",
              "      <td>Association_football_midfielders</td>\n",
              "      <td>[30900, 72488, 73054, 73120, 73132, 73195, 732...</td>\n",
              "    </tr>\n",
              "    <tr>\n",
              "      <th>4</th>\n",
              "      <td>The_Football_League_players</td>\n",
              "      <td>[33973, 48582, 48714, 48922, 72521, 72532, 725...</td>\n",
              "    </tr>\n",
              "  </tbody>\n",
              "</table>\n",
              "</div>"
            ],
            "text/plain": [
              "                           Category  \\\n",
              "0               English_footballers   \n",
              "1    Association_football_defenders   \n",
              "2             Year_of_death_missing   \n",
              "3  Association_football_midfielders   \n",
              "4       The_Football_League_players   \n",
              "\n",
              "                                            PageList  \n",
              "0  [22860, 28961, 28979, 29573, 30896, 31902, 340...  \n",
              "1  [28411, 29264, 48583, 72617, 72628, 72747, 727...  \n",
              "2  [29582, 72528, 72587, 72769, 72826, 72961, 729...  \n",
              "3  [30900, 72488, 73054, 73120, 73132, 73195, 732...  \n",
              "4  [33973, 48582, 48714, 48922, 72521, 72532, 725...  "
            ]
          },
          "metadata": {
            "tags": []
          },
          "execution_count": 11
        }
      ]
    },
    {
      "cell_type": "markdown",
      "metadata": {
        "id": "08pbP1DvIme8"
      },
      "source": [
        "# [RQ1]"
      ]
    },
    {
      "cell_type": "markdown",
      "metadata": {
        "id": "sCiiJH4qIme9"
      },
      "source": [
        "## Creating the Graph\n",
        "As a first step we can check if the graph is directed or not.\n",
        "### Is the graph directed?"
      ]
    },
    {
      "cell_type": "markdown",
      "metadata": {
        "id": "AAzgo6ndIme9"
      },
      "source": [
        " We create a new dataframe where the columns of 'graph' are inverted in order to create the list of edge for both of the dataframe and check in they are equal. In case of a positive answer we can say that the graph is not directed because for each edge from node _a_ to node _b_ there is an edge from node _b_ to node _a_. "
      ]
    },
    {
      "cell_type": "code",
      "metadata": {
        "id": "HwKady76Ime9",
        "outputId": "97e904db-6f6f-4e01-93f0-33c0bceb6e60"
      },
      "source": [
        "functions.is_directed(graph)"
      ],
      "execution_count": null,
      "outputs": [
        {
          "output_type": "stream",
          "text": [
            "The graph is directed\n"
          ],
          "name": "stdout"
        }
      ]
    },
    {
      "cell_type": "markdown",
      "metadata": {
        "id": "QgWxy29gIme-"
      },
      "source": [
        "The graph is directed since there exists an edge from a certain node _a_ to a node _b_ but not from _b_ to _a_."
      ]
    },
    {
      "cell_type": "markdown",
      "metadata": {
        "id": "E1e0Ywa6Ime-"
      },
      "source": [
        "After figuring out if the graph was direct or not, we have created an empty Direct graph through the networkx package using as nodes all the elements belonging to the Source and Target columns in the reduced downloaded dataframe. We then created arcs from the ith node of the Source column to the ith node of the Target column, all weighted with a value equal to 1."
      ]
    },
    {
      "cell_type": "code",
      "metadata": {
        "id": "TdtKATBqIme-"
      },
      "source": [
        "G = functions.create_graph(graph)"
      ],
      "execution_count": null,
      "outputs": []
    },
    {
      "cell_type": "markdown",
      "metadata": {
        "id": "yG6CE86mImfB"
      },
      "source": [
        "### How many articles are we considering?"
      ]
    },
    {
      "cell_type": "markdown",
      "metadata": {
        "id": "-54U2Uu6ImfB"
      },
      "source": [
        "We obtained the total number of nodes in the graph by reporting all the elements of the two columns in the downloaded dataset in the form of a set in order to eliminate any duplication. Once this was done we created a new set given by the union of the previous sets and we calculated its length"
      ]
    },
    {
      "cell_type": "code",
      "metadata": {
        "id": "Q87zyUPtImfB"
      },
      "source": [
        "nodes = functions.number_articles(graph)"
      ],
      "execution_count": null,
      "outputs": []
    },
    {
      "cell_type": "code",
      "metadata": {
        "id": "Zxv9GCDBImfB",
        "outputId": "d2c12ebb-677f-43d3-f349-9527e3d2452b"
      },
      "source": [
        "nodes"
      ],
      "execution_count": null,
      "outputs": [
        {
          "output_type": "execute_result",
          "data": {
            "text/plain": [
              "98343"
            ]
          },
          "metadata": {
            "tags": []
          },
          "execution_count": 44
        }
      ]
    },
    {
      "cell_type": "markdown",
      "metadata": {
        "id": "G3veYuAbImfC"
      },
      "source": [
        "### How many hyperlinks between pages exist?"
      ]
    },
    {
      "cell_type": "markdown",
      "metadata": {
        "id": "XVp-GFapImfC"
      },
      "source": [
        "The total number of hyperlinks belonging to the graph is equal to the number of edges present. This value corresponds to the length of the reduced datasaet downloaded as we can consider it as the Edge List of the graph."
      ]
    },
    {
      "cell_type": "code",
      "metadata": {
        "id": "L_jnBL3MImfC"
      },
      "source": [
        "edges = functions.number_hyperlinks(graph)"
      ],
      "execution_count": null,
      "outputs": []
    },
    {
      "cell_type": "code",
      "metadata": {
        "id": "82507WkNImfC",
        "outputId": "51ba4f6e-6383-4fcf-8aab-291cc3cc9e33"
      },
      "source": [
        "edges"
      ],
      "execution_count": null,
      "outputs": [
        {
          "output_type": "execute_result",
          "data": {
            "text/plain": [
              "483094"
            ]
          },
          "metadata": {
            "tags": []
          },
          "execution_count": 18
        }
      ]
    },
    {
      "cell_type": "markdown",
      "metadata": {
        "id": "jl9dfuYaImfD"
      },
      "source": [
        "### Compute the average number of links in an arbitrary page"
      ]
    },
    {
      "cell_type": "markdown",
      "metadata": {
        "id": "PsECico-ImfD"
      },
      "source": [
        "We obtained the average of links for each node in the graph by calculating the overall sum of the degrees of each single node in the graph and dividing this sum by the number of nodes in the graph."
      ]
    },
    {
      "cell_type": "code",
      "metadata": {
        "id": "UJVpBCvIImfD",
        "outputId": "12fd2067-5614-4079-d520-caeb969c957b"
      },
      "source": [
        "functions.average_links(G)"
      ],
      "execution_count": null,
      "outputs": [
        {
          "output_type": "execute_result",
          "data": {
            "text/plain": [
              "9.824674862471147"
            ]
          },
          "metadata": {
            "tags": []
          },
          "execution_count": 19
        }
      ]
    },
    {
      "cell_type": "markdown",
      "metadata": {
        "id": "HD8WImiOImfE"
      },
      "source": [
        "### Graph Density"
      ]
    },
    {
      "cell_type": "markdown",
      "metadata": {
        "id": "t1Cy5_XtImfE"
      },
      "source": [
        "Since the degree obtained is a direct degree then we can define its density given by the ratio between the number of arcs in the degree and the binomial coefficient of the number of nodes out of 2. The binomial coefficient is multiplied by two being a direct graph and consequently being fundamental the direction of the arch"
      ]
    },
    {
      "cell_type": "markdown",
      "metadata": {
        "id": "Ug7q5bOFImfE"
      },
      "source": [
        "${\\displaystyle D={\\frac {|E|}{2{\\binom {|V|}{2}}}}={\\frac {|E|}{|V|(|V|-1)}}}$"
      ]
    },
    {
      "cell_type": "code",
      "metadata": {
        "id": "LIDdEz6_ImfE",
        "outputId": "f565968d-0ee7-4acc-e5b3-f7f3b4756789"
      },
      "source": [
        "functions.graph_density(nodes,edges) "
      ],
      "execution_count": null,
      "outputs": [
        {
          "output_type": "execute_result",
          "data": {
            "text/plain": [
              "4.9951571365597335e-05"
            ]
          },
          "metadata": {
            "tags": []
          },
          "execution_count": 20
        }
      ]
    },
    {
      "cell_type": "markdown",
      "metadata": {
        "id": "Dpp1Pz8jImfE"
      },
      "source": [
        "Our graph is a sparse graph whose density D is in the lower range of the density's codomain, or $0 \\leq D < \\frac {1} {2}$. To confirm this we can compare the number of maximum arcs for the graph created with the previously calculated edges value."
      ]
    },
    {
      "cell_type": "code",
      "metadata": {
        "id": "yqClU3iBImfF",
        "outputId": "df2b8d75-c0b4-4f92-eb76-3d75afa5c266"
      },
      "source": [
        "functions.comparison_edges(nodes,edges)"
      ],
      "execution_count": null,
      "outputs": [
        {
          "output_type": "stream",
          "text": [
            "The value of max edges is 9671247306 while the value of edges is equals 483094\n"
          ],
          "name": "stdout"
        }
      ]
    },
    {
      "cell_type": "markdown",
      "metadata": {
        "id": "rthdNiGpImfF"
      },
      "source": [
        "## Plot Degree's nodes distribution"
      ]
    },
    {
      "cell_type": "markdown",
      "metadata": {
        "id": "c74_KwtaImfF"
      },
      "source": [
        "Finally, we reported through a plot nodes'degree distribution by defining its degree for each single node within the graph."
      ]
    },
    {
      "cell_type": "code",
      "metadata": {
        "scrolled": false,
        "id": "U9y9kNXAImfF",
        "outputId": "3fd39d08-fbaf-4ba3-bd03-4bd979a0cab0"
      },
      "source": [
        "functions.plot_degree_dist(G)"
      ],
      "execution_count": null,
      "outputs": [
        {
          "output_type": "display_data",
          "data": {
            "image/png": "[encoded data removed]",
            "text/plain": [
              "<Figure size 432x288 with 1 Axes>"
            ]
          },
          "metadata": {
            "tags": [],
            "needs_background": "light"
          }
        }
      ]
    },
    {
      "cell_type": "markdown",
      "metadata": {
        "id": "6NMjd9Z6ImfH"
      },
      "source": [
        "# [RQ2]"
      ]
    },
    {
      "cell_type": "markdown",
      "metadata": {
        "id": "kvhSumwqImfH"
      },
      "source": [
        "We take in input the starting node and the number of clicks $d$, then starting from initial node we reach all the node at level $k$  with $k\\leq d$ considering the starting node as level 0."
      ]
    },
    {
      "cell_type": "markdown",
      "metadata": {
        "id": "8nnHsxDIImfH"
      },
      "source": [
        "As an example we can compute all the pages reachable starting from node 95 with 3 clicks:"
      ]
    },
    {
      "cell_type": "code",
      "metadata": {
        "id": "2RiU0eYWImfH"
      },
      "source": [
        "cl = list(functions.clicks(G, 95, 3))"
      ],
      "execution_count": null,
      "outputs": []
    },
    {
      "cell_type": "code",
      "metadata": {
        "scrolled": false,
        "id": "YMogGa6UImfI",
        "outputId": "f75ff5e2-8fd2-4820-dde0-8e5738d665bb"
      },
      "source": [
        "data_name.iloc[cl].head()"
      ],
      "execution_count": null,
      "outputs": [
        {
          "output_type": "execute_result",
          "data": {
            "text/html": [
              "<div>\n",
              "<style scoped>\n",
              "    .dataframe tbody tr th:only-of-type {\n",
              "        vertical-align: middle;\n",
              "    }\n",
              "\n",
              "    .dataframe tbody tr th {\n",
              "        vertical-align: top;\n",
              "    }\n",
              "\n",
              "    .dataframe thead th {\n",
              "        text-align: right;\n",
              "    }\n",
              "</style>\n",
              "<table border=\"1\" class=\"dataframe\">\n",
              "  <thead>\n",
              "    <tr style=\"text-align: right;\">\n",
              "      <th></th>\n",
              "      <th>Pages</th>\n",
              "    </tr>\n",
              "    <tr>\n",
              "      <th>Node</th>\n",
              "      <th></th>\n",
              "    </tr>\n",
              "  </thead>\n",
              "  <tbody>\n",
              "    <tr>\n",
              "      <th>1595904</th>\n",
              "      <td>Reba McEntire</td>\n",
              "    </tr>\n",
              "    <tr>\n",
              "      <th>1182721</th>\n",
              "      <td>Ma (album)</td>\n",
              "    </tr>\n",
              "    <tr>\n",
              "      <th>1061891</th>\n",
              "      <td>Jodie Foster</td>\n",
              "    </tr>\n",
              "    <tr>\n",
              "      <th>1067523</th>\n",
              "      <td>Valentine (film)</td>\n",
              "    </tr>\n",
              "    <tr>\n",
              "      <th>1060361</th>\n",
              "      <td>Rose McGowan</td>\n",
              "    </tr>\n",
              "  </tbody>\n",
              "</table>\n",
              "</div>"
            ],
            "text/plain": [
              "                    Pages\n",
              "Node                     \n",
              "1595904     Reba McEntire\n",
              "1182721        Ma (album)\n",
              "1061891      Jodie Foster\n",
              "1067523  Valentine (film)\n",
              "1060361      Rose McGowan"
            ]
          },
          "metadata": {
            "tags": []
          },
          "execution_count": 36
        }
      ]
    },
    {
      "cell_type": "markdown",
      "metadata": {
        "id": "buw_Rg_6ImfI"
      },
      "source": [
        "# [RQ3]"
      ]
    },
    {
      "cell_type": "markdown",
      "metadata": {
        "id": "mrwochxpImfI"
      },
      "source": [
        "We ask for a category as input, then we search for this category in the dataframe containing all the categories and if the category falls, we insert all the pages associated with that category in the set \"nodes\". Then we return either the set nodes or if the category is not present in the dataframe the string \"No Category\""
      ]
    },
    {
      "cell_type": "code",
      "metadata": {
        "id": "98RMuTnxImfJ",
        "outputId": "66288537-659c-412d-c580-9db5006cf5fc"
      },
      "source": [
        "new_data.head()"
      ],
      "execution_count": null,
      "outputs": [
        {
          "output_type": "execute_result",
          "data": {
            "text/html": [
              "<div>\n",
              "<style scoped>\n",
              "    .dataframe tbody tr th:only-of-type {\n",
              "        vertical-align: middle;\n",
              "    }\n",
              "\n",
              "    .dataframe tbody tr th {\n",
              "        vertical-align: top;\n",
              "    }\n",
              "\n",
              "    .dataframe thead th {\n",
              "        text-align: right;\n",
              "    }\n",
              "</style>\n",
              "<table border=\"1\" class=\"dataframe\">\n",
              "  <thead>\n",
              "    <tr style=\"text-align: right;\">\n",
              "      <th></th>\n",
              "      <th>Category</th>\n",
              "      <th>PageList</th>\n",
              "    </tr>\n",
              "  </thead>\n",
              "  <tbody>\n",
              "    <tr>\n",
              "      <th>0</th>\n",
              "      <td>English_footballers</td>\n",
              "      <td>[22860, 28961, 28979, 29573, 29582, 30896, 319...</td>\n",
              "    </tr>\n",
              "    <tr>\n",
              "      <th>1</th>\n",
              "      <td>Year_of_birth_missing</td>\n",
              "      <td>[28411, 72580, 72829, 73047, 75306, 75577, 757...</td>\n",
              "    </tr>\n",
              "    <tr>\n",
              "      <th>2</th>\n",
              "      <td>Association_football_defenders</td>\n",
              "      <td>[29264, 48583, 72617, 72628, 72797, 72798, 728...</td>\n",
              "    </tr>\n",
              "    <tr>\n",
              "      <th>3</th>\n",
              "      <td>Association_football_midfielders</td>\n",
              "      <td>[30900, 72488, 72631, 73066, 73109, 73213, 732...</td>\n",
              "    </tr>\n",
              "    <tr>\n",
              "      <th>4</th>\n",
              "      <td>The_Football_League_players</td>\n",
              "      <td>[33973, 48582, 48730, 72483, 72521, 72528, 725...</td>\n",
              "    </tr>\n",
              "  </tbody>\n",
              "</table>\n",
              "</div>"
            ],
            "text/plain": [
              "                           Category  \\\n",
              "0               English_footballers   \n",
              "1             Year_of_birth_missing   \n",
              "2    Association_football_defenders   \n",
              "3  Association_football_midfielders   \n",
              "4       The_Football_League_players   \n",
              "\n",
              "                                            PageList  \n",
              "0  [22860, 28961, 28979, 29573, 29582, 30896, 319...  \n",
              "1  [28411, 72580, 72829, 73047, 75306, 75577, 757...  \n",
              "2  [29264, 48583, 72617, 72628, 72797, 72798, 728...  \n",
              "3  [30900, 72488, 72631, 73066, 73109, 73213, 732...  \n",
              "4  [33973, 48582, 48730, 72483, 72521, 72528, 725...  "
            ]
          },
          "metadata": {
            "tags": []
          },
          "execution_count": 45
        }
      ]
    },
    {
      "cell_type": "markdown",
      "metadata": {
        "id": "QjOUv6CQImfJ"
      },
      "source": [
        "## What Category?"
      ]
    },
    {
      "cell_type": "markdown",
      "metadata": {
        "id": "Eg7UoNxHImfJ"
      },
      "source": [
        "I ask to put in input a category to define the list of pages that we want to reach."
      ]
    },
    {
      "cell_type": "code",
      "metadata": {
        "id": "YwOfWzzaImfJ",
        "outputId": "6b817cc0-22ed-4e57-a4bf-b39d92200dc8"
      },
      "source": [
        "nodes = functions.category(new_data)"
      ],
      "execution_count": null,
      "outputs": [
        {
          "output_type": "stream",
          "text": [
            "Enter your Category: Year_of_death_missing\n"
          ],
          "name": "stdout"
        }
      ]
    },
    {
      "cell_type": "code",
      "metadata": {
        "scrolled": true,
        "id": "AEVXqxErImfJ",
        "outputId": "0e4ad81b-624d-4777-e34d-deef5f3a738f"
      },
      "source": [
        "nodes[:5]"
      ],
      "execution_count": null,
      "outputs": [
        {
          "output_type": "execute_result",
          "data": {
            "text/plain": [
              "[72605, 72664, 72826, 72839, 72852]"
            ]
          },
          "metadata": {
            "tags": []
          },
          "execution_count": 47
        }
      ]
    },
    {
      "cell_type": "markdown",
      "metadata": {
        "id": "hPtmSN8kImfK"
      },
      "source": [
        "## Degree Centrality"
      ]
    },
    {
      "cell_type": "markdown",
      "metadata": {
        "id": "yqdSDxsiImfK"
      },
      "source": [
        "For the list of nodes obtained for the specific category, let's search for the most central node. We use degree-centrality as a measure of centrality. We get the degree-centrality with respect to the entire graph and then we return a dictionary containing as keys the nodes of the specific category and for each node its own centrality, finally we get the dictionary key with the maximum value. The key obtained represents centrality"
      ]
    },
    {
      "cell_type": "code",
      "metadata": {
        "scrolled": true,
        "id": "1zv78ykFImfK"
      },
      "source": [
        "v = functions.degree_centrality(G,nodes)"
      ],
      "execution_count": null,
      "outputs": []
    },
    {
      "cell_type": "code",
      "metadata": {
        "id": "igC4QesqImfK",
        "outputId": "c458338b-d700-41c4-c917-03b45b47d443"
      },
      "source": [
        "v"
      ],
      "execution_count": null,
      "outputs": [
        {
          "output_type": "execute_result",
          "data": {
            "text/plain": [
              "871888"
            ]
          },
          "metadata": {
            "tags": []
          },
          "execution_count": 49
        }
      ]
    },
    {
      "cell_type": "markdown",
      "metadata": {
        "id": "7NHYIZNzImfK"
      },
      "source": [
        "## Find Minimum Distance"
      ]
    },
    {
      "cell_type": "markdown",
      "metadata": {
        "id": "M8U-KY_XImfL"
      },
      "source": [
        "To calculate the minimum distance necessary so that starting from the most central node we could reach all the pages of the specific Category, we tried to search for the ShortestPath following the BFS (Breadth-first-Search) algorithm. Starting from the initial (most central) node, we searched for all its neighbors we visited. Each visited node becomes the new node to visit so we increase the distance from the initial node by increasing the variable (start_distance +1). From the current node we search for new neighbors and we repeat the procedure until for the current node we are on there are no neighbors to that point we stop the search. We first check if the graph is connected. If this is not the case, we report the error otherwise we try to understand if all the nodes have been visited. If so we report the minimum distance otherwise we report the error."
      ]
    },
    {
      "cell_type": "code",
      "metadata": {
        "scrolled": true,
        "id": "cYIDC9anImfL",
        "outputId": "50e11dcc-3804-48cc-e01c-2e5b6b0b602e"
      },
      "source": [
        " functions.minimum_distance(G,v,nodes)"
      ],
      "execution_count": null,
      "outputs": [
        {
          "output_type": "stream",
          "text": [
            "Partial number Click obtained before the node on which one has arrived has no more neighbors is: 27\n",
            "Not Possible because Graph is not Connected\n"
          ],
          "name": "stdout"
        }
      ]
    },
    {
      "cell_type": "markdown",
      "metadata": {
        "id": "ilG_If-WImfL"
      },
      "source": [
        "# [RQ4]\n",
        "### Step 1 : costructing the subgraph of C1 and C2\n",
        "To answer question 4 first of all we need to build the subgraph induced by the categories selected, the new graph contains the node of C1 and C2 and all the edges among the nodes of these two categories"
      ]
    },
    {
      "cell_type": "code",
      "metadata": {
        "id": "NDLA4B7EImfL",
        "outputId": "4f5953a1-c9b5-420c-9a50-6c9175abce3f"
      },
      "source": [
        "C1 = input(\"Enter the first Category: \")\n",
        "C2 = input(\"Enter the second Category: \")"
      ],
      "execution_count": null,
      "outputs": [
        {
          "output_type": "stream",
          "text": [
            "Enter the first Category: Association_football_forwards\n",
            "Enter the second Category: Association_football_midfielders\n"
          ],
          "name": "stdout"
        }
      ]
    },
    {
      "cell_type": "code",
      "metadata": {
        "id": "LPKFceH5ImfM"
      },
      "source": [
        "G_sub = functions.sub_graph(G, C1, C2, new_data)"
      ],
      "execution_count": null,
      "outputs": []
    },
    {
      "cell_type": "code",
      "metadata": {
        "id": "5iHRQh-5ImfM",
        "outputId": "08b948ed-7f99-4ddd-e920-38f4459cee3f"
      },
      "source": [
        "nx.info(G_sub)"
      ],
      "execution_count": null,
      "outputs": [
        {
          "output_type": "execute_result",
          "data": {
            "text/plain": [
              "'Name: \\nType: DiGraph\\nNumber of nodes: 5283\\nNumber of edges: 7789\\nAverage in degree:   1.4744\\nAverage out degree:   1.4744'"
            ]
          },
          "metadata": {
            "tags": []
          },
          "execution_count": 13
        }
      ]
    },
    {
      "cell_type": "markdown",
      "metadata": {
        "id": "1b1UmRGxImfM"
      },
      "source": [
        "### Let v and u two arbitrary pages in the subgraph. What is the minimum set of hyperlinks one can remove to disconnect u and v?\n",
        "This is a <b> min cut </b> problem : we want to find the minimum number of edges to remove in order to disconect two given nodes in the graph. <br>\n",
        "We can solve this problem using two main results:\n",
        "- Max-flow min-cut theorem\n",
        "- Ford_Fulkerson algorithm <br>\n",
        "The theorem asserts that <i>the maximum amount of flow passing from the source to the sink is equal to the total weight of the edges in a minimum cut</i> and the algorithm can find the maximum flow so the minimum cut."
      ]
    },
    {
      "cell_type": "markdown",
      "metadata": {
        "id": "mhvda14fImfN"
      },
      "source": [
        "#### Ford_Fulkerson algorithm\n",
        "This algorithm needs the support of a BFS algorithm that returns the path from the node u to node v, if it exists. The idea behind the algorithm is as follows: as long as there is a path from the source (start node) to the sink (end node), with available capacity on all edges in the path, we send flow along one of the paths. Then we find another path, and so on."
      ]
    },
    {
      "cell_type": "markdown",
      "metadata": {
        "id": "QQ8V6wc9ImfN"
      },
      "source": [
        "In order to give an efficient implementation of the algorithm we map the nodes of G_sub into [0,...,len(G_sub.nodes)] and then, we build the adjacency matrix associated at this graph. The function _nx.adjacency_matrix()_ provided by networkx library returns a sparse matrix that we can convert in a numpy matrix using _.toarray()_ ."
      ]
    },
    {
      "cell_type": "code",
      "metadata": {
        "id": "wOQcKbjMImfN"
      },
      "source": [
        "#Mapping G_sub into [0,...,len(G_sub.nodes)]\n",
        "mapping = {old_label:new_label for new_label, old_label in enumerate(G_sub.nodes())}\n",
        "H_sub = nx.relabel_nodes(G_sub, mapping)"
      ],
      "execution_count": null,
      "outputs": []
    },
    {
      "cell_type": "code",
      "metadata": {
        "id": "Q0_AtnOkImfN"
      },
      "source": [
        "#Sparse adjacency matrix\n",
        "Adj_Mat_sparse = nx.adjacency_matrix(H_sub)"
      ],
      "execution_count": null,
      "outputs": []
    },
    {
      "cell_type": "code",
      "metadata": {
        "id": "NwO-l_w_ImfN"
      },
      "source": [
        "#Numpy adjacency matrix\n",
        "Adj_Mat = Adj_Mat_sparse.toarray()"
      ],
      "execution_count": null,
      "outputs": []
    },
    {
      "cell_type": "code",
      "metadata": {
        "id": "dGMTjWQ4ImfN"
      },
      "source": [
        "#Nodes u and v of H_sub picked at random\n",
        "u = choice(list(H_sub.nodes))\n",
        "v = choice(list(H_sub.nodes))"
      ],
      "execution_count": null,
      "outputs": []
    },
    {
      "cell_type": "code",
      "metadata": {
        "id": "oJUys3VhImfO",
        "outputId": "f7f9b423-02e5-4cb7-e6d5-caca35d6718e"
      },
      "source": [
        "min_cut = functions.ford_fulkerson(Adj_Mat, u, v)\n",
        "min_cut"
      ],
      "execution_count": null,
      "outputs": [
        {
          "output_type": "execute_result",
          "data": {
            "text/plain": [
              "1"
            ]
          },
          "metadata": {
            "tags": []
          },
          "execution_count": 34
        }
      ]
    },
    {
      "cell_type": "markdown",
      "metadata": {
        "id": "_1vJINm8ImfO"
      },
      "source": [
        "# [RQ5]"
      ]
    },
    {
      "cell_type": "code",
      "metadata": {
        "id": "ONbUCuaAImfO"
      },
      "source": [
        "# Read all categories\n",
        "with open('new_categories.txt',encoding='utf-8') as json_file:\n",
        "    categories = json.load(json_file)"
      ],
      "execution_count": null,
      "outputs": []
    },
    {
      "cell_type": "code",
      "metadata": {
        "id": "i0AyVVwbImfO"
      },
      "source": [
        "# Create a class Graph\n",
        "class Graph:\n",
        "    def __init__(self):\n",
        "        self.outgoing = defaultdict(list)\n",
        "        self.incoming = defaultdict(list)\n",
        "        self.edges = []\n",
        "    def insert_edge(self, u, v):\n",
        "        self.outgoing[u].append(v)\n",
        "        self.incoming[v].append(u)\n",
        "        self.edges.append((u,v))\n",
        "    def vertices(self):\n",
        "        return list(set(self.outgoing.keys()) | set(self.incoming.keys()))"
      ],
      "execution_count": null,
      "outputs": []
    },
    {
      "cell_type": "code",
      "metadata": {
        "id": "pjd9XiN-ImfO",
        "outputId": "87b66a59-97eb-4d93-d56e-99e25979ee2b"
      },
      "source": [
        "# Modify the wikiggraph_reduced\n",
        "path = 'wikigraph_reduced.csv'\n",
        "dataset = pd.read_csv(path)\n",
        "dataset = dataset.rename(columns={\"Unnamed: 0\": \"Hyperlinks_Id\", \"0\": \"Source\", \"1\": \"Target\"})\n",
        "dataset.head()"
      ],
      "execution_count": null,
      "outputs": [
        {
          "output_type": "execute_result",
          "data": {
            "text/html": [
              "<div>\n",
              "<style scoped>\n",
              "    .dataframe tbody tr th:only-of-type {\n",
              "        vertical-align: middle;\n",
              "    }\n",
              "\n",
              "    .dataframe tbody tr th {\n",
              "        vertical-align: top;\n",
              "    }\n",
              "\n",
              "    .dataframe thead th {\n",
              "        text-align: right;\n",
              "    }\n",
              "</style>\n",
              "<table border=\"1\" class=\"dataframe\">\n",
              "  <thead>\n",
              "    <tr style=\"text-align: right;\">\n",
              "      <th></th>\n",
              "      <th>Hyperlinks_Id</th>\n",
              "      <th>Source</th>\n",
              "      <th>Target</th>\n",
              "    </tr>\n",
              "  </thead>\n",
              "  <tbody>\n",
              "    <tr>\n",
              "      <th>0</th>\n",
              "      <td>796</td>\n",
              "      <td>95</td>\n",
              "      <td>1185516</td>\n",
              "    </tr>\n",
              "    <tr>\n",
              "      <th>1</th>\n",
              "      <td>909</td>\n",
              "      <td>108</td>\n",
              "      <td>1059989</td>\n",
              "    </tr>\n",
              "    <tr>\n",
              "      <th>2</th>\n",
              "      <td>910</td>\n",
              "      <td>108</td>\n",
              "      <td>1062426</td>\n",
              "    </tr>\n",
              "    <tr>\n",
              "      <th>3</th>\n",
              "      <td>911</td>\n",
              "      <td>108</td>\n",
              "      <td>1161925</td>\n",
              "    </tr>\n",
              "    <tr>\n",
              "      <th>4</th>\n",
              "      <td>1141</td>\n",
              "      <td>134</td>\n",
              "      <td>541222</td>\n",
              "    </tr>\n",
              "  </tbody>\n",
              "</table>\n",
              "</div>"
            ],
            "text/plain": [
              "   Hyperlinks_Id  Source   Target\n",
              "0            796      95  1185516\n",
              "1            909     108  1059989\n",
              "2            910     108  1062426\n",
              "3            911     108  1161925\n",
              "4           1141     134   541222"
            ]
          },
          "metadata": {
            "tags": []
          },
          "execution_count": 93
        }
      ]
    },
    {
      "cell_type": "code",
      "metadata": {
        "id": "xbG72OOxImfP"
      },
      "source": [
        "# Initialize a Graph\n",
        "g = Graph()\n",
        "_ = dataset.apply(lambda row: g.insert_edge(row['Source'], row['Target']), axis = 1)"
      ],
      "execution_count": null,
      "outputs": []
    },
    {
      "cell_type": "code",
      "metadata": {
        "id": "-As4tiDkImfP",
        "outputId": "f706ddb3-3c72-4e42-a04e-8c5abaa37944"
      },
      "source": [
        "# Choose the category\n",
        "c0 = 'Category:Association_football_forwards'\n",
        "functions.category_distance(g, categories, c0)"
      ],
      "execution_count": null,
      "outputs": [
        {
          "output_type": "error",
          "ename": "KeyboardInterrupt",
          "evalue": "",
          "traceback": [
            "\u001b[1;31m---------------------------------------------------------------------------\u001b[0m",
            "\u001b[1;31mKeyboardInterrupt\u001b[0m                         Traceback (most recent call last)",
            "\u001b[1;32m<ipython-input-102-251bc586e971>\u001b[0m in \u001b[0;36m<module>\u001b[1;34m\u001b[0m\n\u001b[0;32m      1\u001b[0m \u001b[0mc0\u001b[0m \u001b[1;33m=\u001b[0m \u001b[1;34m'Category:Association_football_forwards'\u001b[0m\u001b[1;33m\u001b[0m\u001b[1;33m\u001b[0m\u001b[0m\n\u001b[1;32m----> 2\u001b[1;33m \u001b[0mcategory_distance\u001b[0m\u001b[1;33m(\u001b[0m\u001b[0mg\u001b[0m\u001b[1;33m,\u001b[0m \u001b[0mcategories\u001b[0m\u001b[1;33m,\u001b[0m \u001b[0mc0\u001b[0m\u001b[1;33m)\u001b[0m\u001b[1;33m\u001b[0m\u001b[1;33m\u001b[0m\u001b[0m\n\u001b[0m",
            "\u001b[1;32m<ipython-input-96-c164bd857729>\u001b[0m in \u001b[0;36mcategory_distance\u001b[1;34m(graph, categories, input_category)\u001b[0m\n\u001b[0;32m     14\u001b[0m         \u001b[1;32mif\u001b[0m \u001b[0mcategory\u001b[0m \u001b[1;33m!=\u001b[0m \u001b[0minput_category\u001b[0m\u001b[1;33m:\u001b[0m\u001b[1;33m\u001b[0m\u001b[1;33m\u001b[0m\u001b[0m\n\u001b[0;32m     15\u001b[0m             \u001b[1;32mfor\u001b[0m \u001b[0msource\u001b[0m \u001b[1;32min\u001b[0m \u001b[0mcategories\u001b[0m\u001b[1;33m[\u001b[0m\u001b[0minput_category\u001b[0m\u001b[1;33m]\u001b[0m\u001b[1;33m:\u001b[0m\u001b[1;33m\u001b[0m\u001b[1;33m\u001b[0m\u001b[0m\n\u001b[1;32m---> 16\u001b[1;33m                 \u001b[1;32mif\u001b[0m \u001b[0msource\u001b[0m \u001b[1;32min\u001b[0m \u001b[0mgraph\u001b[0m\u001b[1;33m.\u001b[0m\u001b[0mvertices\u001b[0m\u001b[1;33m(\u001b[0m\u001b[1;33m)\u001b[0m\u001b[1;33m:\u001b[0m\u001b[1;33m\u001b[0m\u001b[1;33m\u001b[0m\u001b[0m\n\u001b[0m\u001b[0;32m     17\u001b[0m                     \u001b[0mshortest_distance\u001b[0m \u001b[1;33m=\u001b[0m \u001b[0mshortestpath\u001b[0m\u001b[1;33m(\u001b[0m\u001b[0mgraph\u001b[0m\u001b[1;33m,\u001b[0m \u001b[0mint\u001b[0m\u001b[1;33m(\u001b[0m\u001b[0msource\u001b[0m\u001b[1;33m)\u001b[0m\u001b[1;33m,\u001b[0m \u001b[0marticles\u001b[0m\u001b[1;33m)\u001b[0m \u001b[1;31m# return shortest distance from source to articles\u001b[0m\u001b[1;33m\u001b[0m\u001b[1;33m\u001b[0m\u001b[0m\n\u001b[0;32m     18\u001b[0m \u001b[1;33m\u001b[0m\u001b[0m\n",
            "\u001b[1;31mKeyboardInterrupt\u001b[0m: "
          ]
        }
      ]
    },
    {
      "cell_type": "markdown",
      "metadata": {
        "id": "LAMmPYnQImfP"
      },
      "source": [
        "# [RQ6]"
      ]
    },
    {
      "cell_type": "code",
      "metadata": {
        "id": "eSrJR-BQImfQ"
      },
      "source": [
        "# useful create a dict\n",
        "refer_dt = data_cat[data_cat['Category'].isin(list(new_dat[\"Category\"]))]\n",
        "lst_category = list(refer_dt['Category'])\n",
        "\n",
        "lst_pages = [ set(map(int, lst_pg )) for lst_pg in list(refer_dt[\"PageList\"]) ]\n",
        "my_dict = { cat: lst_pages[i] for i, cat in enumerate(lst_category) }"
      ],
      "execution_count": null,
      "outputs": []
    },
    {
      "cell_type": "code",
      "metadata": {
        "id": "qGo_re_GImfQ"
      },
      "source": [
        "# create the new graph of categories and inserts the node as one category\n",
        "new_G = nx.DiGraph(directed=True)\n",
        "for cat in lst_category:\n",
        "    new_G.add_node(cat)"
      ],
      "execution_count": null,
      "outputs": []
    },
    {
      "cell_type": "code",
      "metadata": {
        "id": "sLGLOd5fImfQ",
        "outputId": "f8fc1959-5bae-46f0-9494-872e2851e19b"
      },
      "source": [
        "# add edges\n",
        "for x in tqdm(my_dict):\n",
        "    for y in my_dict:\n",
        "        if (x != y and len(my_dict[x].intersection(my_dict[y])) > 0):\n",
        "            new_G.add_edge(x, y)"
      ],
      "execution_count": null,
      "outputs": [
        {
          "output_type": "stream",
          "text": [
            "100%|█████████████████████████████████████████████████████████████████████████████████| 21/21 [00:00<00:00, 158.44it/s]\n"
          ],
          "name": "stderr"
        }
      ]
    },
    {
      "cell_type": "code",
      "metadata": {
        "id": "bbaQTCvYImfQ",
        "outputId": "80f4dca0-572c-44bf-fb82-a61452dc3bdb"
      },
      "source": [
        "len(new_G.edges)"
      ],
      "execution_count": null,
      "outputs": [
        {
          "output_type": "execute_result",
          "data": {
            "text/plain": [
              "110"
            ]
          },
          "metadata": {
            "tags": []
          },
          "execution_count": 107
        }
      ]
    },
    {
      "cell_type": "code",
      "metadata": {
        "id": "HbsHkGGEImfR",
        "outputId": "046ea62a-d561-4fe6-90f2-1eba373ec665"
      },
      "source": [
        "total_PageRank = functions.PageRank(new_G)\n",
        "sum(total_PageRank.values())"
      ],
      "execution_count": null,
      "outputs": [
        {
          "output_type": "stream",
          "text": [
            "100%|██████████████████████████████████████████████████████████████████████████████| 100/100 [00:00<00:00, 7713.10it/s]\n"
          ],
          "name": "stderr"
        },
        {
          "output_type": "execute_result",
          "data": {
            "text/plain": [
              "0.9190476190476178"
            ]
          },
          "metadata": {
            "tags": []
          },
          "execution_count": 108
        }
      ]
    }
  ]
}